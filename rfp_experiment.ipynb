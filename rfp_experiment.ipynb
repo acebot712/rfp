{
 "cells": [
  {
   "cell_type": "code",
   "execution_count": null,
   "id": "a863a5f8-7f82-4644-b8be-17740940398b",
   "metadata": {},
   "outputs": [],
   "source": [
    "from langchain.chains import RetrievalQA\n",
    "from langchain.embeddings import AzureOpenAIEmbeddings\n",
    "from langchain.chat_models import AzureChatOpenAI\n",
    "from langchain.text_splitter import CharacterTextSplitter\n",
    "from langchain.vectorstores import Chroma\n",
    "import os\n",
    "from dotenv import load_dotenv\n",
    "\n",
    "load_dotenv()\n"
   ]
  },
  {
   "cell_type": "code",
   "execution_count": null,
   "id": "42fb7dd1-2565-4824-8884-7e10b67e8f8c",
   "metadata": {},
   "outputs": [],
   "source": [
    "llm = AzureChatOpenAI(\n",
    "    azure_endpoint=os.environ.get(\"AZURE_ENDPOINT\"),\n",
    "    deployment_name=os.environ.get(\"DEPLOYMENT_NAME\"),\n",
    "    openai_api_version=os.environ.get(\"OPENAI_API_VERSION\"),\n",
    "    openai_api_key=os.environ.get(\"AZURE_OPENAI_API_KEY\"),\n",
    "    model_name=os.environ.get(\"MODEL_NAME\"),\n",
    ")\n"
   ]
  },
  {
   "cell_type": "code",
   "execution_count": null,
   "id": "9ffe261a-484b-46d0-94a7-08d78c49c6c3",
   "metadata": {},
   "outputs": [],
   "source": [
    "from langchain.retrievers.multi_vector import MultiVectorRetriever"
   ]
  },
  {
   "cell_type": "code",
   "execution_count": null,
   "id": "79544e70-5019-42ae-8db1-69a31ce41026",
   "metadata": {},
   "outputs": [],
   "source": [
    "from langchain.document_loaders import TextLoader\n",
    "from langchain.embeddings import AzureOpenAIEmbeddings\n",
    "from langchain.storage import InMemoryStore\n",
    "from langchain.text_splitter import RecursiveCharacterTextSplitter\n",
    "from langchain.vectorstores import Chroma"
   ]
  },
  {
   "cell_type": "code",
   "execution_count": null,
   "id": "d9fb6d1c-9743-4a69-bd83-68db199783a2",
   "metadata": {},
   "outputs": [],
   "source": [
    "loaders = [\n",
    "    TextLoader(\"./paul_graham_essay.txt\"),\n",
    "    TextLoader(\"./state_of_the_union.txt\"),\n",
    "]\n",
    "docs = []\n",
    "for l in loaders:\n",
    "    docs.extend(l.load())\n",
    "text_splitter = RecursiveCharacterTextSplitter(chunk_size=10000)\n",
    "docs = text_splitter.split_documents(docs)"
   ]
  },
  {
   "cell_type": "markdown",
   "id": "217189dc-3abc-44cf-ba72-38f61d9a2eb4",
   "metadata": {},
   "source": [
    "# Smaller chunks"
   ]
  },
  {
   "cell_type": "code",
   "execution_count": null,
   "id": "e4e1cafd-9c28-47e8-80d7-1d7f0c053d2f",
   "metadata": {},
   "outputs": [],
   "source": [
    "# The vectorstore to use to index the child chunks\n",
    "vectorstore = Chroma(\n",
    "    collection_name=\"full_documents\", embedding_function=AzureOpenAIEmbeddings(\n",
    "        azure_endpoint=os.environ.get(\"AZURE_ENDPOINT\"),\n",
    "        deployment=\"frm-ai-clust-embed\",\n",
    "        openai_api_version=os.environ.get(\"OPENAI_API_VERSION\"),\n",
    "        openai_api_key=os.environ.get(\"AZURE_OPENAI_API_KEY\"),\n",
    "    )\n",
    ")\n",
    "\n",
    "# The storage layer for the parent documents\n",
    "store = InMemoryStore()\n",
    "id_key = \"doc_id\"\n",
    "\n",
    "# The retriever (empty to start)\n",
    "retriever = MultiVectorRetriever(\n",
    "    vectorstore=vectorstore,\n",
    "    docstore=store,\n",
    "    id_key=id_key,\n",
    ")\n",
    "import uuid\n",
    "\n",
    "doc_ids = [str(uuid.uuid4()) for _ in docs]"
   ]
  },
  {
   "cell_type": "code",
   "execution_count": null,
   "id": "8a342dea-746d-4c05-8d57-aff3bfe09773",
   "metadata": {},
   "outputs": [],
   "source": [
    "# The splitter to use to create smaller chunks\n",
    "child_text_splitter = RecursiveCharacterTextSplitter(chunk_size=400)"
   ]
  },
  {
   "cell_type": "code",
   "execution_count": null,
   "id": "f10ce967-2472-4b73-a9e3-54a104b20a62",
   "metadata": {},
   "outputs": [],
   "source": [
    "sub_docs = []\n",
    "for i, doc in enumerate(docs):\n",
    "    _id = doc_ids[i]\n",
    "    _sub_docs = child_text_splitter.split_documents([doc])\n",
    "    for _doc in _sub_docs:\n",
    "        _doc.metadata[id_key] = _id\n",
    "    sub_docs.extend(_sub_docs)"
   ]
  },
  {
   "cell_type": "code",
   "execution_count": null,
   "id": "6e89c09c-c6cb-40a1-9c2b-3e271af94239",
   "metadata": {},
   "outputs": [],
   "source": [
    "retriever.vectorstore.add_documents(sub_docs)\n",
    "retriever.docstore.mset(list(zip(doc_ids, docs)))"
   ]
  },
  {
   "cell_type": "code",
   "execution_count": null,
   "id": "09dbda61-af0a-4844-8fe9-c24ad6303a08",
   "metadata": {},
   "outputs": [],
   "source": [
    "# Vectorstore alone retrieves the small chunks\n",
    "retriever.vectorstore.similarity_search(\"justice breyer\")[0]"
   ]
  },
  {
   "cell_type": "code",
   "execution_count": null,
   "id": "bf09dcc4-f8cd-4edd-b583-b707db16290e",
   "metadata": {},
   "outputs": [],
   "source": [
    "retriever.get_relevant_documents(\"justice breyer\")[0].page_content"
   ]
  },
  {
   "cell_type": "code",
   "execution_count": null,
   "id": "271368fb-9bc2-4f48-a6ec-f0fa4fa2a423",
   "metadata": {},
   "outputs": [],
   "source": [
    "# Retriever returns larger chunks\n",
    "len(retriever.get_relevant_documents(\"justice breyer\")[0].page_content)"
   ]
  },
  {
   "cell_type": "code",
   "execution_count": null,
   "id": "efef7ff4-5b2e-4f8e-b161-8922ea035f78",
   "metadata": {},
   "outputs": [],
   "source": [
    "retriever.get_relevant_documents(\"justice breyer\")[0].page_content"
   ]
  },
  {
   "cell_type": "markdown",
   "id": "9da0d2d2-7cef-4810-8f13-a3d918f53145",
   "metadata": {},
   "source": [
    "# Summaries"
   ]
  },
  {
   "cell_type": "code",
   "execution_count": null,
   "id": "552fd04f-cbda-43ae-9dc1-8848e408a7ef",
   "metadata": {},
   "outputs": [],
   "source": [
    "import uuid\n",
    "\n",
    "from langchain.chat_models import AzureChatOpenAI\n",
    "from langchain.prompts import ChatPromptTemplate\n",
    "from langchain.schema.document import Document\n",
    "from langchain.schema.output_parser import StrOutputParser"
   ]
  },
  {
   "cell_type": "code",
   "execution_count": null,
   "id": "b8f459f4-4e8e-4c68-a7be-7a2b9201eb06",
   "metadata": {},
   "outputs": [],
   "source": [
    "chain = (\n",
    "    {\"doc\": lambda x: x.page_content}\n",
    "    | ChatPromptTemplate.from_template(\"Summarize the following document:\\n\\n{doc}\")\n",
    "    | AzureChatOpenAI(\n",
    "        azure_endpoint=os.environ.get(\"AZURE_ENDPOINT\"),\n",
    "        deployment_name=os.environ.get(\"DEPLOYMENT_NAME\"),\n",
    "        openai_api_version=os.environ.get(\"OPENAI_API_VERSION\"),\n",
    "        openai_api_key=os.environ.get(\"AZURE_OPENAI_API_KEY\"),\n",
    "        model_name=os.environ.get(\"MODEL_NAME\"),\n",
    "    )\n",
    "    | StrOutputParser()\n",
    ")"
   ]
  },
  {
   "cell_type": "code",
   "execution_count": null,
   "id": "52a10d77-bd85-4c05-91ca-71c5a5307d4b",
   "metadata": {},
   "outputs": [],
   "source": [
    "summaries = chain.batch(docs, {\"max_concurrency\": 5})"
   ]
  },
  {
   "cell_type": "code",
   "execution_count": null,
   "id": "b214860f-8382-4b76-9ac4-a1dc1ee9c4cf",
   "metadata": {},
   "outputs": [],
   "source": [
    "# The vectorstore to use to index the child chunks\n",
    "vectorstore = Chroma(collection_name=\"summaries\", embedding_function=AzureOpenAIEmbeddings(\n",
    "        azure_endpoint=os.environ.get(\"AZURE_ENDPOINT\"),\n",
    "        deployment=\"frm-ai-clust-embed\",\n",
    "        openai_api_version=os.environ.get(\"OPENAI_API_VERSION\"),\n",
    "        openai_api_key=os.environ.get(\"AZURE_OPENAI_API_KEY\"),\n",
    "    )\n",
    ")\n",
    "# The storage layer for the parent documents\n",
    "store = InMemoryStore()\n",
    "id_key = \"doc_id\"\n",
    "# The retriever (empty to start)\n",
    "retriever = MultiVectorRetriever(\n",
    "    vectorstore=vectorstore,\n",
    "    docstore=store,\n",
    "    id_key=id_key,\n",
    ")\n",
    "doc_ids = [str(uuid.uuid4()) for _ in docs]"
   ]
  },
  {
   "cell_type": "code",
   "execution_count": null,
   "id": "6b082951-37c4-453b-8c0b-eec7c70a51bb",
   "metadata": {},
   "outputs": [],
   "source": [
    "summary_docs = [\n",
    "    Document(page_content=s, metadata={id_key: doc_ids[i]})\n",
    "    for i, s in enumerate(summaries)\n",
    "]"
   ]
  },
  {
   "cell_type": "code",
   "execution_count": null,
   "id": "bca965d8-5a8c-4a3a-9418-5835dfeb87a7",
   "metadata": {},
   "outputs": [],
   "source": [
    "retriever.vectorstore.add_documents(summary_docs)\n",
    "retriever.docstore.mset(list(zip(doc_ids, docs)))"
   ]
  },
  {
   "cell_type": "code",
   "execution_count": null,
   "id": "da95014c-7d33-487c-95b0-a30155864f9d",
   "metadata": {},
   "outputs": [],
   "source": [
    "sub_docs = vectorstore.similarity_search(\"justice breyer\")"
   ]
  },
  {
   "cell_type": "code",
   "execution_count": null,
   "id": "b3a4d27e-3d22-4085-9016-618cce063964",
   "metadata": {},
   "outputs": [],
   "source": [
    "sub_docs[0]"
   ]
  },
  {
   "cell_type": "code",
   "execution_count": null,
   "id": "4e61e27e-d80b-4a6c-8a8a-43ac31e8b930",
   "metadata": {},
   "outputs": [],
   "source": [
    "retrieved_docs = retriever.get_relevant_documents(\"justice breyer\")"
   ]
  },
  {
   "cell_type": "code",
   "execution_count": null,
   "id": "8d6de4d6-cd0f-46e0-bee2-fa6f22a71f2f",
   "metadata": {},
   "outputs": [],
   "source": [
    "len(retrieved_docs[0].page_content)"
   ]
  },
  {
   "cell_type": "code",
   "execution_count": null,
   "id": "ffed2dde-bfe8-4a2c-b5f9-a2072457678b",
   "metadata": {},
   "outputs": [],
   "source": [
    "retrieved_docs[0].page_content"
   ]
  },
  {
   "cell_type": "markdown",
   "id": "1c03d6cc-e60f-4427-bf48-26230f5c92cd",
   "metadata": {},
   "source": [
    "# Hypothetical Queries"
   ]
  },
  {
   "cell_type": "code",
   "execution_count": null,
   "id": "71dbc42c-2ec5-4d2f-8428-50338b3a9981",
   "metadata": {},
   "outputs": [],
   "source": [
    "functions = [\n",
    "    {\n",
    "        \"name\": \"hypothetical_questions\",\n",
    "        \"description\": \"Generate hypothetical questions\",\n",
    "        \"parameters\": {\n",
    "            \"type\": \"object\",\n",
    "            \"properties\": {\n",
    "                \"questions\": {\n",
    "                    \"type\": \"array\",\n",
    "                    \"items\": {\"type\": \"string\"},\n",
    "                },\n",
    "            },\n",
    "            \"required\": [\"questions\"],\n",
    "        },\n",
    "    }\n",
    "]"
   ]
  },
  {
   "cell_type": "code",
   "execution_count": null,
   "id": "68826e4b-5c21-4bb4-9b53-2d8d549adfd8",
   "metadata": {},
   "outputs": [],
   "source": [
    "from langchain.output_parsers.openai_functions import JsonKeyOutputFunctionsParser\n",
    "\n",
    "chain = (\n",
    "    {\"doc\": lambda x: x.page_content}\n",
    "    # Only asking for 3 hypothetical questions, but this could be adjusted\n",
    "    | ChatPromptTemplate.from_template(\n",
    "        \"Generate a list of 3 hypothetical questions that the below document could be used to answer:\\n\\n{doc}\"\n",
    "    )\n",
    "    | AzureChatOpenAI(\n",
    "        azure_endpoint=os.environ.get(\"AZURE_ENDPOINT\"),\n",
    "        deployment_name=os.environ.get(\"DEPLOYMENT_NAME\"),\n",
    "        openai_api_version=os.environ.get(\"OPENAI_API_VERSION\"),\n",
    "        openai_api_key=os.environ.get(\"AZURE_OPENAI_API_KEY\"),\n",
    "        model_name=os.environ.get(\"MODEL_NAME\"),\n",
    "    ).bind(\n",
    "        functions=functions, function_call={\"name\": \"hypothetical_questions\"}\n",
    "    )\n",
    "    | JsonKeyOutputFunctionsParser(key_name=\"questions\")\n",
    ")"
   ]
  },
  {
   "cell_type": "code",
   "execution_count": null,
   "id": "1afd196b-93cb-4c81-996e-ee75eb70a4aa",
   "metadata": {},
   "outputs": [],
   "source": [
    "chain.invoke(docs[0])"
   ]
  },
  {
   "cell_type": "code",
   "execution_count": null,
   "id": "0c17ea68-081f-470b-8474-c121f564e3f6",
   "metadata": {},
   "outputs": [],
   "source": [
    "hypothetical_questions = chain.batch(docs, {\"max_concurrency\": 5})"
   ]
  },
  {
   "cell_type": "code",
   "execution_count": null,
   "id": "575680b9-2b04-4e79-88f6-88b373436b85",
   "metadata": {},
   "outputs": [],
   "source": [
    "# The vectorstore to use to index the child chunks\n",
    "vectorstore = Chroma(\n",
    "    collection_name=\"hypo-questions\", embedding_function=AzureOpenAIEmbeddings(\n",
    "        azure_endpoint=os.environ.get(\"AZURE_ENDPOINT\"),\n",
    "        deployment=\"frm-ai-clust-embed\",\n",
    "        openai_api_version=os.environ.get(\"OPENAI_API_VERSION\"),\n",
    "        openai_api_key=os.environ.get(\"AZURE_OPENAI_API_KEY\"),\n",
    "    )\n",
    ")\n",
    "\n",
    "# The storage layer for the parent documents\n",
    "store = InMemoryStore()\n",
    "id_key = \"doc_id\"\n",
    "\n",
    "# The retriever (empty to start)\n",
    "retriever = MultiVectorRetriever(\n",
    "    vectorstore=vectorstore,\n",
    "    docstore=store,\n",
    "    id_key=id_key,\n",
    ")\n",
    "doc_ids = [str(uuid.uuid4()) for _ in docs]"
   ]
  },
  {
   "cell_type": "code",
   "execution_count": null,
   "id": "5991e173-f4d3-48dd-9ec3-2701be203606",
   "metadata": {},
   "outputs": [],
   "source": [
    "question_docs = []\n",
    "for i, question_list in enumerate(hypothetical_questions):\n",
    "    question_docs.extend(\n",
    "        [Document(page_content=s, metadata={id_key: doc_ids[i]}) for s in question_list]\n",
    "    )"
   ]
  },
  {
   "cell_type": "code",
   "execution_count": null,
   "id": "d2e1c01c-325e-435d-a47c-e65adc1c7fff",
   "metadata": {},
   "outputs": [],
   "source": [
    "retriever.vectorstore.add_documents(question_docs)\n",
    "retriever.docstore.mset(list(zip(doc_ids, docs)))"
   ]
  },
  {
   "cell_type": "code",
   "execution_count": null,
   "id": "5def4de1-9dac-4ce3-8694-ce222c4ecb69",
   "metadata": {},
   "outputs": [],
   "source": [
    "sub_docs = vectorstore.similarity_search(\"justice breyer\")"
   ]
  },
  {
   "cell_type": "code",
   "execution_count": null,
   "id": "7dea7846-719c-4f21-8b03-11ce8bffa8a9",
   "metadata": {},
   "outputs": [],
   "source": [
    "sub_docs"
   ]
  },
  {
   "cell_type": "code",
   "execution_count": null,
   "id": "dbb5c97c-1cb1-4b07-af40-2a172c4499ce",
   "metadata": {},
   "outputs": [],
   "source": [
    "retrieved_docs = retriever.get_relevant_documents(\"justice breyer\")"
   ]
  },
  {
   "cell_type": "code",
   "execution_count": null,
   "id": "c0b9863b-b623-494d-bbb2-8c1e4409ba90",
   "metadata": {},
   "outputs": [],
   "source": [
    "len(retrieved_docs[0].page_content)"
   ]
  },
  {
   "cell_type": "code",
   "execution_count": null,
   "id": "e497b857-89d7-41a2-9e6f-7c94d84d3391",
   "metadata": {},
   "outputs": [],
   "source": [
    "retrieved_docs[0].page_content"
   ]
  },
  {
   "cell_type": "markdown",
   "id": "39ebca80-9e78-490f-900f-559901d52624",
   "metadata": {},
   "source": [
    "# CSV agent"
   ]
  },
  {
   "cell_type": "code",
   "execution_count": null,
   "id": "eafbfbf6-bd3b-4862-8c6f-61ce55bd616f",
   "metadata": {},
   "outputs": [],
   "source": [
    "from langchain.embeddings import AzureOpenAIEmbeddings\n",
    "from langchain.chat_models import AzureChatOpenAI\n",
    "from langchain.text_splitter import CharacterTextSplitter\n",
    "from langchain.vectorstores import Chroma\n",
    "import os\n",
    "from langchain.agents.agent_types import AgentType\n",
    "from langchain_experimental.agents.agent_toolkits import create_csv_agent\n",
    "from dotenv import load_dotenv\n",
    "\n",
    "load_dotenv()"
   ]
  },
  {
   "cell_type": "code",
   "execution_count": null,
   "id": "1a2a44b3-10d5-448a-85f0-0274ee994e12",
   "metadata": {},
   "outputs": [],
   "source": [
    "import re\n",
    "\n",
    "def clean_line(line):\n",
    "    # This regular expression finds all quoted strings and removes commas from within them\n",
    "    return re.sub(r'\"([^\"]*)\"', lambda m: m.group(0).replace(',', ''), line)\n",
    "\n",
    "# Read the CSV file\n",
    "with open('deniro.csv', 'r', encoding='utf-8') as file:\n",
    "    lines = file.readlines()\n",
    "\n",
    "# Clean each line\n",
    "cleaned_lines = [clean_line(line) for line in lines]\n",
    "\n",
    "# Write the cleaned data back to a new CSV file\n",
    "with open('deniro_cleaned.csv', 'w', encoding='utf-8') as file:\n",
    "    file.writelines(cleaned_lines)\n"
   ]
  },
  {
   "cell_type": "code",
   "execution_count": null,
   "id": "6e9557f9-666d-4a28-8781-20403e842d59",
   "metadata": {},
   "outputs": [],
   "source": [
    "agent = create_csv_agent(\n",
    "    AzureChatOpenAI(\n",
    "        azure_endpoint=os.environ.get(\"AZURE_ENDPOINT\"),\n",
    "        deployment_name=os.environ.get(\"DEPLOYMENT_NAME\"),\n",
    "        openai_api_version=os.environ.get(\"OPENAI_API_VERSION\"),\n",
    "        openai_api_key=os.environ.get(\"AZURE_OPENAI_API_KEY\"),\n",
    "        model_name=os.environ.get(\"MODEL_NAME\"),\n",
    "    ),\n",
    "    \"./deniro_cleaned.csv\",\n",
    "    verbose=True,\n",
    "    agent_type=AgentType.ZERO_SHOT_REACT_DESCRIPTION,\n",
    ")"
   ]
  },
  {
   "cell_type": "code",
   "execution_count": null,
   "id": "37811d36-7378-4986-a37a-9475445b4955",
   "metadata": {},
   "outputs": [],
   "source": [
    "agent.run(\"How many rows are there?\")"
   ]
  },
  {
   "cell_type": "markdown",
   "id": "72cb07cf-dadf-4ce5-943e-51b504f446ba",
   "metadata": {},
   "source": [
    "# Putting it all together\n",
    "The plan is as follows:-\n",
    "- Take the CSV and create different types of vector embeddings of its chunks and store in vector store with `id_key`\n",
    "- Store the parent documents in docstore once\n",
    "- Create retriever as a tool\n",
    "- Pass this to extra tools parameter in `create_csv_agent`"
   ]
  },
  {
   "cell_type": "code",
   "execution_count": 1,
   "id": "97ca76fa-1aa4-4525-a504-b37cdc09b7bf",
   "metadata": {},
   "outputs": [
    {
     "data": {
      "text/plain": [
       "True"
      ]
     },
     "execution_count": 1,
     "metadata": {},
     "output_type": "execute_result"
    }
   ],
   "source": [
    "from langchain.retrievers.multi_vector import MultiVectorRetriever\n",
    "from langchain.embeddings import AzureOpenAIEmbeddings\n",
    "from langchain.chat_models import AzureChatOpenAI\n",
    "from langchain.vectorstores import Chroma\n",
    "from langchain.storage import InMemoryStore\n",
    "from langchain.text_splitter import RecursiveCharacterTextSplitter\n",
    "from langchain.prompts import ChatPromptTemplate\n",
    "from langchain.schema.output_parser import StrOutputParser\n",
    "from langchain.document_loaders.csv_loader import CSVLoader, UnstructuredCSVLoader\n",
    "from langchain.schema.document import Document\n",
    "from langchain.agents.agent_toolkits import create_retriever_tool\n",
    "from langchain_experimental.agents.agent_toolkits import create_csv_agent, create_pandas_dataframe_agent\n",
    "from langchain.agents.agent_types import AgentType\n",
    "import pandas as pd\n",
    "\n",
    "import uuid\n",
    "\n",
    "import os\n",
    "from dotenv import load_dotenv\n",
    "\n",
    "load_dotenv()\n"
   ]
  },
  {
   "cell_type": "code",
   "execution_count": 2,
   "id": "f8d68818-6ffe-4f19-8873-db8eaa467481",
   "metadata": {},
   "outputs": [],
   "source": [
    "import re\n",
    "\n",
    "def clean_line(line):\n",
    "    # This regular expression finds all quoted strings and removes commas from within them\n",
    "    return re.sub(r'\"([^\"]*)\"', lambda m: m.group(0).replace(',', ''), line)\n",
    "\n",
    "# Read the CSV file\n",
    "with open('rfi.csv', 'r', encoding='utf-8') as file:\n",
    "    lines = file.readlines()\n",
    "\n",
    "# Clean each line\n",
    "cleaned_lines = [clean_line(line) for line in lines]\n",
    "\n",
    "# Write the cleaned data back to a new CSV file\n",
    "with open('rfi_cleaned.csv', 'w', encoding='utf-8') as file:\n",
    "    file.writelines(cleaned_lines)\n"
   ]
  },
  {
   "cell_type": "code",
   "execution_count": 3,
   "id": "4fcea4ec-5505-479d-8172-08148ca6197a",
   "metadata": {},
   "outputs": [],
   "source": [
    "# Load and parse the CSV data\n",
    "loader = UnstructuredCSVLoader(file_path='./rfi_cleaned.csv')\n"
   ]
  },
  {
   "cell_type": "code",
   "execution_count": 4,
   "id": "234bcf13-480b-43c4-83e8-e4e00a1434f2",
   "metadata": {},
   "outputs": [],
   "source": [
    "text_splitter = RecursiveCharacterTextSplitter()"
   ]
  },
  {
   "cell_type": "code",
   "execution_count": 5,
   "id": "45afe5c4-4712-4dfd-9160-baa4578a190f",
   "metadata": {},
   "outputs": [],
   "source": [
    "docs = loader.load_and_split(text_splitter)"
   ]
  },
  {
   "cell_type": "code",
   "execution_count": 6,
   "id": "a4573653-9c40-4bb0-99bf-79f6c69873cc",
   "metadata": {},
   "outputs": [
    {
     "data": {
      "text/plain": [
       "3"
      ]
     },
     "execution_count": 6,
     "metadata": {},
     "output_type": "execute_result"
    }
   ],
   "source": [
    "len(docs)"
   ]
  },
  {
   "cell_type": "code",
   "execution_count": 7,
   "id": "93a0f67a-54b3-4c3e-98c8-af449c98715a",
   "metadata": {},
   "outputs": [],
   "source": [
    "chain = (\n",
    "    {\"doc\": lambda x: x.page_content}\n",
    "    | ChatPromptTemplate.from_template(\"Summarize the following document:\\n\\n{doc}\")\n",
    "    | AzureChatOpenAI(\n",
    "        azure_endpoint=os.environ.get(\"AZURE_ENDPOINT\"),\n",
    "        deployment_name=os.environ.get(\"DEPLOYMENT_NAME\"),\n",
    "        openai_api_version=os.environ.get(\"OPENAI_API_VERSION\"),\n",
    "        openai_api_key=os.environ.get(\"AZURE_OPENAI_API_KEY\"),\n",
    "        model_name=os.environ.get(\"MODEL_NAME\"),\n",
    "    )\n",
    "    | StrOutputParser()\n",
    ")"
   ]
  },
  {
   "cell_type": "code",
   "execution_count": 8,
   "id": "d1d54c2e-5c98-4716-95a7-20603575f88e",
   "metadata": {},
   "outputs": [],
   "source": [
    "summaries = chain.batch(docs, {\"max_concurrency\": 5})"
   ]
  },
  {
   "cell_type": "code",
   "execution_count": 9,
   "id": "46d04502-e1cc-47c5-ac6a-13fec90927bc",
   "metadata": {},
   "outputs": [
    {
     "data": {
      "text/plain": [
       "['The document is a request for information from Uber as part of its 2023 Media Agency Review. The document reveals information about the media agency, MediaMonks Inc, and its relevant experience. The agency, registered in 2001 and incorporated in Delaware, US, describes its extensive experience within the tech sector, including working with technology clients across various subverticals. The agency also emphasizes its agility, ability to drive adoption of delivery apps, and its analytics practice. The agency also develops first-to-market technologies like their Inflection Engine. They believe these experiences will be beneficial for Uber.\\n\\nTheir three key clients relevant to Uber are PayPal, Shopify, and Netflix. However, the document does not explain why these clients are relevant to Uber. The document does not provide any information on how the agency manages conflict and confidentiality, especially when working with key competitors.',\n",
       " \"Media.Monks's approach to conflict and confidentiality management includes team separation, physical security, data security, and organizational structure to maintain client confidentiality and security. All employees sign a confidentiality agreement when hired and receive training on client confidentiality practices. The company also has software security measures in place, including assessing every new application or SaaS from a security and privacy perspective. They provide secure office spaces for meetings and have adopted an ISO 27001 Information Security Management System. Media.Monks currently has Doordash and Instacard on their client roster, focusing solely on content and creative capabilities. The company is able to offer S4Capital or MediaMonks Inc as the contracting entity and is registered in the US - Delaware. They guarantee that all Agency Volume Bonuses/ Rebates or advertiser spend generated value/discounts will be returned to Uber and that all media costs represent the cost invoiced to the agency without any markup. Media.Monks is also willing to cover transition costs if awarded Uber business.\",\n",
       " \"The document is an evaluation of an agency by Uber. The agency is expected to allow Uber direct access to trading platforms for pricing information, support data transfer processes, and manage the QA process for API connections. If selected, the agency will need to cover all costs related to Brand Safety tools. The agency has over 9000 full-time employees, serves over 450 clients including Google, Estee, and Shopify, and has recently won contracts with large companies in the streaming, crypto, and gaming industries. In 2022, the agency managed 7 billion in global media. If chosen as Uber's partner, the agency would rank Uber among their top 5 clients by size. The agency also has a Supplier Diversity Program in place to promote business with diverse-owned companies.\"]"
      ]
     },
     "execution_count": 9,
     "metadata": {},
     "output_type": "execute_result"
    }
   ],
   "source": [
    "summaries"
   ]
  },
  {
   "cell_type": "code",
   "execution_count": 10,
   "id": "391d8ed0-ee9e-415e-820b-a6cb23689bc2",
   "metadata": {},
   "outputs": [],
   "source": [
    "# The vectorstore to use to index the child chunks\n",
    "vectorstore = Chroma(collection_name=\"summaries\", embedding_function=AzureOpenAIEmbeddings(\n",
    "        azure_endpoint=os.environ.get(\"AZURE_ENDPOINT\"),\n",
    "        deployment=\"frm-ai-clust-embed\",\n",
    "        openai_api_version=os.environ.get(\"OPENAI_API_VERSION\"),\n",
    "        openai_api_key=os.environ.get(\"AZURE_OPENAI_API_KEY\"),\n",
    "    )\n",
    ")\n",
    "\n",
    "# The storage layer for the parent documents\n",
    "store = InMemoryStore()\n",
    "id_key = \"doc_id\"\n",
    "\n",
    "# The retriever (empty to start)\n",
    "retriever = MultiVectorRetriever(\n",
    "    vectorstore=vectorstore,\n",
    "    docstore=store,\n",
    "    id_key=id_key,\n",
    ")\n",
    "\n",
    "# Create doc_ids\n",
    "doc_ids = [str(uuid.uuid4()) for _ in docs]"
   ]
  },
  {
   "cell_type": "code",
   "execution_count": 11,
   "id": "021a994c-6c77-4d66-ac11-8c797fdce357",
   "metadata": {},
   "outputs": [],
   "source": [
    "summary_docs = [\n",
    "    Document(page_content=s, metadata={id_key: doc_ids[i]})\n",
    "    for i, s in enumerate(summaries)\n",
    "]"
   ]
  },
  {
   "cell_type": "code",
   "execution_count": 12,
   "id": "b32fbd07-ae5c-4f6c-9eec-d7be3f3f5b90",
   "metadata": {},
   "outputs": [
    {
     "data": {
      "text/plain": [
       "[Document(page_content='The document is a request for information from Uber as part of its 2023 Media Agency Review. The document reveals information about the media agency, MediaMonks Inc, and its relevant experience. The agency, registered in 2001 and incorporated in Delaware, US, describes its extensive experience within the tech sector, including working with technology clients across various subverticals. The agency also emphasizes its agility, ability to drive adoption of delivery apps, and its analytics practice. The agency also develops first-to-market technologies like their Inflection Engine. They believe these experiences will be beneficial for Uber.\\n\\nTheir three key clients relevant to Uber are PayPal, Shopify, and Netflix. However, the document does not explain why these clients are relevant to Uber. The document does not provide any information on how the agency manages conflict and confidentiality, especially when working with key competitors.', metadata={'doc_id': '1932afc7-02ff-4afc-bb71-aed8d0d77227'}),\n",
       " Document(page_content=\"Media.Monks's approach to conflict and confidentiality management includes team separation, physical security, data security, and organizational structure to maintain client confidentiality and security. All employees sign a confidentiality agreement when hired and receive training on client confidentiality practices. The company also has software security measures in place, including assessing every new application or SaaS from a security and privacy perspective. They provide secure office spaces for meetings and have adopted an ISO 27001 Information Security Management System. Media.Monks currently has Doordash and Instacard on their client roster, focusing solely on content and creative capabilities. The company is able to offer S4Capital or MediaMonks Inc as the contracting entity and is registered in the US - Delaware. They guarantee that all Agency Volume Bonuses/ Rebates or advertiser spend generated value/discounts will be returned to Uber and that all media costs represent the cost invoiced to the agency without any markup. Media.Monks is also willing to cover transition costs if awarded Uber business.\", metadata={'doc_id': '6ea507fc-c46d-49b6-95c7-169077b93e8c'}),\n",
       " Document(page_content=\"The document is an evaluation of an agency by Uber. The agency is expected to allow Uber direct access to trading platforms for pricing information, support data transfer processes, and manage the QA process for API connections. If selected, the agency will need to cover all costs related to Brand Safety tools. The agency has over 9000 full-time employees, serves over 450 clients including Google, Estee, and Shopify, and has recently won contracts with large companies in the streaming, crypto, and gaming industries. In 2022, the agency managed 7 billion in global media. If chosen as Uber's partner, the agency would rank Uber among their top 5 clients by size. The agency also has a Supplier Diversity Program in place to promote business with diverse-owned companies.\", metadata={'doc_id': 'c773ac87-01b3-45a1-8785-966b47688285'})]"
      ]
     },
     "execution_count": 12,
     "metadata": {},
     "output_type": "execute_result"
    }
   ],
   "source": [
    "summary_docs"
   ]
  },
  {
   "cell_type": "code",
   "execution_count": 13,
   "id": "c21d8034-a69d-47d6-88d7-ad910968a4d4",
   "metadata": {},
   "outputs": [],
   "source": [
    "retriever.vectorstore.add_documents(summary_docs)\n",
    "retriever.docstore.mset(list(zip(doc_ids, docs)))"
   ]
  },
  {
   "cell_type": "code",
   "execution_count": 14,
   "id": "e278c343-aaf4-4f99-bfdf-016f06f904dd",
   "metadata": {},
   "outputs": [],
   "source": [
    "# Create the tool\n",
    "tool = create_retriever_tool(\n",
    "    retriever,\n",
    "    \"search_rfi_docs\",\n",
    "    \"Searches and returns RFI documents that are relevant to generate Request For Proposal (RFP)\",\n",
    ")\n",
    "tools = [tool]"
   ]
  },
  {
   "cell_type": "code",
   "execution_count": 15,
   "id": "81c84b40-8930-45ea-9414-72043dca26d2",
   "metadata": {},
   "outputs": [],
   "source": [
    "df = pd.read_csv(\"./rfi_cleaned.csv\")\n",
    "\n",
    "agent = create_pandas_dataframe_agent(\n",
    "    AzureChatOpenAI(\n",
    "        azure_endpoint=os.environ.get(\"AZURE_ENDPOINT\"),\n",
    "        deployment_name=os.environ.get(\"DEPLOYMENT_NAME\"),\n",
    "        openai_api_version=os.environ.get(\"OPENAI_API_VERSION\"),\n",
    "        openai_api_key=os.environ.get(\"AZURE_OPENAI_API_KEY\"),\n",
    "        model_name=os.environ.get(\"MODEL_NAME\"),\n",
    "    ),\n",
    "    df,\n",
    "    verbose=True,\n",
    "    agent_type=AgentType.OPENAI_FUNCTIONS,\n",
    "    extra_tools=tools,\n",
    ")"
   ]
  },
  {
   "cell_type": "code",
   "execution_count": 17,
   "id": "838fada6-c693-4c83-b6ea-96cfa68a5f14",
   "metadata": {},
   "outputs": [
    {
     "name": "stdout",
     "output_type": "stream",
     "text": [
      "\n",
      "\n",
      "\u001b[1m> Entering new AgentExecutor chain...\u001b[0m\n",
      "\u001b[32;1m\u001b[1;3m\n",
      "Invoking: `search_rfi_docs` with `{'query': 'How does your agency define innovation in media and how does this influence your approach to planning? Show us one example of truly innovative work that your agency has led'}`\n",
      "\n",
      "\n",
      "\u001b[0m"
     ]
    },
    {
     "name": "stderr",
     "output_type": "stream",
     "text": [
      "Number of requested results 4 is greater than number of elements in index 3, updating n_results = 3\n"
     ]
    },
    {
     "name": "stdout",
     "output_type": "stream",
     "text": [
      "\u001b[33;1m\u001b[1;3m[Document(page_content=\"UBER - Media Agency Review 2023 - Request for Information\\n\\n\\n\\n\\n\\n\\n\\n\\n\\n\\n\\n\\n\\n\\nQuestion\\nSub Question (if necessary)\\nAgency Answer (please submit all answers within the yellow fields below)\\n\\n\\n\\nAgency Details\\nCompany Name:\\n\\nMediaMonks Inc\\n\\n\\n\\n\\nYear Company Registered:\\n\\n2001\\n\\n\\n\\n\\nCentral/ Head office address:\\n\\n1214 Abbott Kinney Blvd\\\\nVenice, CA 90291\\n\\n\\n\\n\\nCountry of Incorporation:\\n\\nUS - Delaware\\n\\n\\n\\nCategory/Relevant Experience\\nPlease detail your experience within Uber's category (e.g. technology ride share delivery)? What from this experience do you think will be relevant and of benefit for Uber - (max. 300 words)\\n\\nAs an organization, Media.Monks has developed a key focus on the tech sector, with a majority of our revenue across all practices coming from leading, global technology companies. This experience allows us to bring a unique point of view to Uber's business from a series key vantage points:\\\\n\\\\nFirst, as an Agency, Media.Monks partners with a broad swath of technology clients, spanning multiple technology subverticals (payments, b2b + consumer commerce, and entertainment and cryptocurrency, to name a few). That breadth of experience arms us with a deeper understanding not only of industry-specific media strategies, but also of the agility required to execute at the pace that the sector requires. Within the delivery space, our content practice has produced best-in-class experiences and content to drive greater adoption and usage of delivery apps. On the back end, our analytics practice has helped implement and leverage leading analytics technologies to distill key learnings and optimize media campaigns across digital channels.\\\\n\\\\nSecond, as technologists, we develop leading, first-to-market technologies that create efficiencies not just for ourselves, but our advertiser clients, as well. For example, our Inflection Engine is a proprietary tool that uniquely captures signals - both macro and behavioral, that anticipate changes in consumer sentiment and analyze competitive behavior to inform and influence media strategies. We understand from our own experience the lifecycle of tech development, the things that go into creating market-leading technologies, and the intrinsic value that they offer to the market.\\\\n\\\\nThese experiences have informed not just how we engage with clients, but in how we build best in class technologies to drive results. We recognize the need to move at the speed of Uber - that is, to move and adapt at the pace of change, and bring technologies that will help accelerate decisions and drive performance for Uber. \\\\n\\\\n\\n\\n\\n\\n\\nPlease mention your 3 key clients relevant to Uber (not necessarily tech ride share or delivery)\\nPlease feel free to explain why you think they are relevant to Uber\\nPayPal\\\\nShopify\\\\nNetflix\\n\\n\\n\\nConflict Management\\nPlease provide a summary of how you approach conflict and confidentiality management within your agency group specifically if working with a key competitor (max 300 words):\", metadata={'source': './rfi_cleaned.csv'}), Document(page_content='Yes\\n\\n\\n\\n\\nIt is assumed that your agency will allow Uber direct access to any trading platform to access pricing and that agency supports all processes to transfer data from platforms. Agency also supports/maintains any QA process associated with API connections into Uber Data Platform. Y/N\\n\\nYes\\n\\n\\n\\n\\nIf you were awarded the business it is Uber\\'s expectations that your Agency covers all costs related to Brand Safety tools. Uber is currently utilizing IAB for most of its Brand Safety needs.\\n\\nYes\\n\\n\\n\\nAgency Size & Capabilities\\nSize of the proposed Agency in number of FTEs\\nPlease break out by the agencies you are proposing\\n9000+\\n\\n\\n\\n\\nNumber of clients serviced by the proposed Agency in 2022\\n\\n450+\\n\\n\\n\\n\\n3 Top Clients of the proposed Agency in 2022\\n\\nGoogle Estee Shopify\\n\\n\\n\\n\\n3 Most recent Client wins\\n\\nConfidentiality agreements preclude us from disclosing but they\\'re large well-known companies in the streaming crypto and gaming industries respectively. Additionally here are two recent announcements from wins in 2022 for Unity and Estee (link)\\n\\n\\n\\n\\nBilling/revenue information (if publicly available) of the proposed Agency\\n\\nAnnual report In 2022 Media.Monks had 7bn in global media under management.\\n\\n\\n\\n\\nUber\\'s rank on your list of clients (by size of total media billing/revenue) if the proposed Agency is chosen as the Uber partner (2023+).\\n\\nTop 5\\n\\n\\n\\nDiversity Equity and Inclusion\\nDoes your company have a supplier diversity program? Briefly describe your supplier diversity efforts to increase opportunities for certified diverse-owned companies to do business with your firm and how you will promote first party relationships with certified diverse suppliers including media owners with Uber.\\\\nPlease provide examples.\"Yes. In 2022, we launched the first phase of our Supplier Diversity Program. The program is baked into a larger ESG assessment for our vendors. In this first phase, led by our procurement team,  a select group of vendors (based on the level of criticality of the partnership) receive a questionnaire to uncover any diversity business certifications, DE&I policies and programs, to assess leadership team diversity, and to measure activity that supports environmental sustainability. In our next phase, we intend to expand our Supplier Diversity program to work with other parts of our organization that are in charge of securing vendors (e.g. production teams, office teams, etc.). We\\'ll provide updates as this program evolves/progresses.\\\\n', metadata={'source': './rfi_cleaned.csv'}), Document(page_content=\"Conflict Management\\nPlease provide a summary of how you approach conflict and confidentiality management within your agency group specifically if working with a key competitor (max 300 words):\\n\\nMedia.Monks’s approach to team separation, physical security, data security, and organizational structure delivers best in class client confidentiality, while still tapping into our global network of capabilities.  Our unitary structure ensures confidence in your confidentiality and security. Our processes and protocols can be thought of across a series of key categories:\\\\n\\\\nOnboarding: Beyond any specific contracts the company or individual team members might have signed with the client, each employee has signed a confidentiality agreement when hired covering their responsibilities regarding maintaining client confidentiality and security. New team members receive an overview of our client confidentiality practices and any specific measures for a particular client team. Likewise, when offboarding a team member, they are reminded of our best practices and their responsibilities.\\\\n\\\\nSoftware Security: We are implementing a process to assess every new application or SaaS from a security and privacy perspective to ensure it accomplishes the requirements defined. Some aspects analyzed are security by design, access control security configuration, data encryption in storage and transit, data handling, and more.\\\\n\\\\nIt is our policy to install off-the-shelf software packages according to the specifications of the supplier and avoid further modifications. The use of pirated software is strictly forbidden.\\\\n\\\\nA client first approach to office space: Secure space for meetings and client conversations is provided that ensures that team members have access to areas that are soundproof and offer the ability to restrict visual access to the space. Employees are required to erase information on whiteboards at the end of each meeting, and whiteboards are cleared by staff twice a day as an additional measure.\\\\n\\\\nInfosec: We’ve adopted an ISO 27001 Information Security Management System for protecting the confidentiality, integrity and availability of information. We are committed to improving our ISMS on a constant basis.\\\\n\\\\n\\\\n\\\\n\\\\n\\\\n\\\\n\\n\\n\\n\\n\\nWith reference to Uber's competitors listed in the Competitor List (tab D) please confirm whether any of these companies are existing clients for agencies in your network.\\nPlease also flag in case you believe any other companies in your portfolio could identify as competitor\\nBoth Doordash and Instacard are currently on our client roster, however, our relationship with each company focuses solely on our content and creative capabilities, and not within media or data.\\\\n\\\\n\\n\\n\\n\\nUber Requirements\\nShould you be the winning agency we would seek a contractual arrangement at parent / holding company level. Please confirm your:\\nContracting entity:\\nWe are able to offer S4Capital or MediaMonks Inc as the contracting entity. Regardless of which entity is governing the contract MediaMonks would still be the entity delivering the scopes of work.\\n\\n\\n\\n\\n\\nRegistered country:\\nUS - Delaware\\n\\n\\n\\n\\nWe expect that all Agency Volume Bonuses/ Rebates or any other advertiser spend generated value/discounts will be returned to Uber. Can you guarantee this? (Yes / No)\\n\\nYes\\n\\n\\n\\n\\nWe expect that all media costs represent the cost invoiced to the agency (either directly or in platform marketplace) and doesn't include any mark up. Can you guarantee this? (Yes/No)\\n\\nYes\\n\\n\\n\\n\\nIf you were awarded Uber business it is Uber's expectation that your agency will cover transition costs for the duration of Transition which will include (for example) training time for new account members and start up expenses. Are you willing to accept this as part of your proposal? Y/N\\n\\nYes\", metadata={'source': './rfi_cleaned.csv'})]\u001b[0m\u001b[32;1m\u001b[1;3mFrom the RFI documents, the agency MediaMonks Inc, defines innovation in media through the development of leading, first-to-market technologies that create efficiencies not just for themselves, but for their advertiser clients as well. Their approach to planning is influenced by anticipating changes in consumer sentiment and analyzing competitive behavior to inform and influence media strategies.\n",
      "\n",
      "An example of their truly innovative work is the Inflection Engine. It is a proprietary tool that uniquely captures signals - both macro and behavioral, that anticipate changes in consumer sentiment and analyze competitive behavior to inform and influence media strategies. \n",
      "\n",
      "This approach and example demonstrate how MediaMonks Inc. not only engages with clients but also how they build best-in-class technologies to drive results. They recognize the need to move and adapt at the pace of change, and bring technologies that will help accelerate decisions and drive performance for their clients.\u001b[0m\n",
      "\n",
      "\u001b[1m> Finished chain.\u001b[0m\n"
     ]
    }
   ],
   "source": [
    "prefix = \"\"\"\n",
    "You are an advanced RFP document generation system specifically designed for 'TheoremOne.' \n",
    "You should be capable of analyzing and extracting key information from RFI documents using appropriate tools. \n",
    "The extracted information should then be used to formulate a comprehensive RFP document. \n",
    "The RFP should be structured in a clear and concise Q&A format, ensuring that it addresses all critical aspects relevant to TheoremOne's needs and objectives. \n",
    "You should prioritize clarity, relevance, and completeness in the RFP document. \n",
    "The output should be easily navigable, well-organized, and formatted for professional presentation.\n",
    "Use any tools you need to accomplish the task highlighted below and only mention the output and nothing else:-\\n\n",
    "\"\"\"\n",
    "prompt = prefix + \"\"\"How does your agency define innovation in media and how does this influence your approach to planning? Show us one example of truly innovative work that your agency has led \"\"\"\n",
    "response = agent.invoke(prompt)"
   ]
  },
  {
   "cell_type": "code",
   "execution_count": 18,
   "id": "d576d17c-66ca-4e26-821f-4b97d4c68cb8",
   "metadata": {},
   "outputs": [
    {
     "name": "stdout",
     "output_type": "stream",
     "text": [
      "From the RFI documents, the agency MediaMonks Inc, defines innovation in media through the development of leading, first-to-market technologies that create efficiencies not just for themselves, but for their advertiser clients as well. Their approach to planning is influenced by anticipating changes in consumer sentiment and analyzing competitive behavior to inform and influence media strategies.\n",
      "\n",
      "An example of their truly innovative work is the Inflection Engine. It is a proprietary tool that uniquely captures signals - both macro and behavioral, that anticipate changes in consumer sentiment and analyze competitive behavior to inform and influence media strategies. \n",
      "\n",
      "This approach and example demonstrate how MediaMonks Inc. not only engages with clients but also how they build best-in-class technologies to drive results. They recognize the need to move and adapt at the pace of change, and bring technologies that will help accelerate decisions and drive performance for their clients.\n"
     ]
    }
   ],
   "source": [
    "\"\"\"How does your agency define innovation in media and how does this influence your approach to planning? Show us one example of truly innovative work that your agency has led \"\"\"\n",
    "print(response[\"output\"])"
   ]
  },
  {
   "cell_type": "code",
   "execution_count": null,
   "id": "0cf5f123-7173-47ac-8481-1ea63e5f70b5",
   "metadata": {},
   "outputs": [],
   "source": []
  }
 ],
 "metadata": {
  "kernelspec": {
   "display_name": "Python 3 (ipykernel)",
   "language": "python",
   "name": "python3"
  },
  "language_info": {
   "codemirror_mode": {
    "name": "ipython",
    "version": 3
   },
   "file_extension": ".py",
   "mimetype": "text/x-python",
   "name": "python",
   "nbconvert_exporter": "python",
   "pygments_lexer": "ipython3",
   "version": "3.11.3"
  }
 },
 "nbformat": 4,
 "nbformat_minor": 5
}
